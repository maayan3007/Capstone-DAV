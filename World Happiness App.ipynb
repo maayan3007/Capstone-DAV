{
 "cells": [
  {
   "cell_type": "markdown",
   "metadata": {},
   "source": [
    "# World Happiness App\n",
    "\n",
    "### Project by: Adva Asraf, Dean Pianica, Maayan Raviv, Olga Kriyokov \n",
    "***"
   ]
  },
  {
   "cell_type": "markdown",
   "metadata": {},
   "source": [
    "## Which country suites best for you?\n",
    "The questionnaire below will ask you a few questions in regards to the importance of different variables in life in your own matter.\n",
    "\n",
    "to add more content. \n",
    "\n",
    "### Invision link to our prototype: https://invis.io/WETEMASBK3M"
   ]
  },
  {
   "cell_type": "code",
   "execution_count": 1,
   "metadata": {
    "colab": {},
    "colab_type": "code",
    "id": "f8ejKPrVpRxI"
   },
   "outputs": [],
   "source": [
    "import pandas as pd\n",
    "import numpy as np\n",
    "from sklearn.cluster import KMeans"
   ]
  },
  {
   "cell_type": "code",
   "execution_count": 2,
   "metadata": {
    "colab": {},
    "colab_type": "code",
    "id": "olan0-jqpaNR"
   },
   "outputs": [],
   "source": [
    "df1=pd.read_csv('https://raw.githubusercontent.com/maayan3007/Capstone-DAV/master/world%20happiness%20report.csv')"
   ]
  },
  {
   "cell_type": "code",
   "execution_count": 3,
   "metadata": {
    "colab": {
     "base_uri": "https://localhost:8080/",
     "height": 311
    },
    "colab_type": "code",
    "id": "CWZlVN7g7VIK",
    "outputId": "2c4ee0ee-1a85-484f-911c-d82508201bcd"
   },
   "outputs": [
    {
     "data": {
      "text/html": [
       "<div>\n",
       "<style scoped>\n",
       "    .dataframe tbody tr th:only-of-type {\n",
       "        vertical-align: middle;\n",
       "    }\n",
       "\n",
       "    .dataframe tbody tr th {\n",
       "        vertical-align: top;\n",
       "    }\n",
       "\n",
       "    .dataframe thead th {\n",
       "        text-align: right;\n",
       "    }\n",
       "</style>\n",
       "<table border=\"1\" class=\"dataframe\">\n",
       "  <thead>\n",
       "    <tr style=\"text-align: right;\">\n",
       "      <th></th>\n",
       "      <th>Ladder</th>\n",
       "      <th>SD of Ladder</th>\n",
       "      <th>Positive affect</th>\n",
       "      <th>Negative affect</th>\n",
       "      <th>Social support</th>\n",
       "      <th>Freedom</th>\n",
       "      <th>Corruption</th>\n",
       "      <th>Generosity</th>\n",
       "      <th>Log of GDP\n",
       "per capita</th>\n",
       "      <th>Healthy life\n",
       "expectancy</th>\n",
       "    </tr>\n",
       "  </thead>\n",
       "  <tbody>\n",
       "    <tr>\n",
       "      <th>count</th>\n",
       "      <td>156.000000</td>\n",
       "      <td>156.000000</td>\n",
       "      <td>155.000000</td>\n",
       "      <td>155.000000</td>\n",
       "      <td>155.000000</td>\n",
       "      <td>155.000000</td>\n",
       "      <td>148.000000</td>\n",
       "      <td>155.000000</td>\n",
       "      <td>152.000000</td>\n",
       "      <td>150.000000</td>\n",
       "    </tr>\n",
       "    <tr>\n",
       "      <th>mean</th>\n",
       "      <td>78.500000</td>\n",
       "      <td>78.500000</td>\n",
       "      <td>78.000000</td>\n",
       "      <td>78.000000</td>\n",
       "      <td>78.000000</td>\n",
       "      <td>78.000000</td>\n",
       "      <td>74.500000</td>\n",
       "      <td>78.000000</td>\n",
       "      <td>76.500000</td>\n",
       "      <td>75.500000</td>\n",
       "    </tr>\n",
       "    <tr>\n",
       "      <th>std</th>\n",
       "      <td>45.177428</td>\n",
       "      <td>45.177428</td>\n",
       "      <td>44.888751</td>\n",
       "      <td>44.888751</td>\n",
       "      <td>44.888751</td>\n",
       "      <td>44.888751</td>\n",
       "      <td>42.868014</td>\n",
       "      <td>44.888751</td>\n",
       "      <td>44.022721</td>\n",
       "      <td>43.445368</td>\n",
       "    </tr>\n",
       "    <tr>\n",
       "      <th>min</th>\n",
       "      <td>1.000000</td>\n",
       "      <td>1.000000</td>\n",
       "      <td>1.000000</td>\n",
       "      <td>1.000000</td>\n",
       "      <td>1.000000</td>\n",
       "      <td>1.000000</td>\n",
       "      <td>1.000000</td>\n",
       "      <td>1.000000</td>\n",
       "      <td>1.000000</td>\n",
       "      <td>1.000000</td>\n",
       "    </tr>\n",
       "    <tr>\n",
       "      <th>25%</th>\n",
       "      <td>39.750000</td>\n",
       "      <td>39.750000</td>\n",
       "      <td>39.500000</td>\n",
       "      <td>39.500000</td>\n",
       "      <td>39.500000</td>\n",
       "      <td>39.500000</td>\n",
       "      <td>37.750000</td>\n",
       "      <td>39.500000</td>\n",
       "      <td>38.750000</td>\n",
       "      <td>38.250000</td>\n",
       "    </tr>\n",
       "    <tr>\n",
       "      <th>50%</th>\n",
       "      <td>78.500000</td>\n",
       "      <td>78.500000</td>\n",
       "      <td>78.000000</td>\n",
       "      <td>78.000000</td>\n",
       "      <td>78.000000</td>\n",
       "      <td>78.000000</td>\n",
       "      <td>74.500000</td>\n",
       "      <td>78.000000</td>\n",
       "      <td>76.500000</td>\n",
       "      <td>75.500000</td>\n",
       "    </tr>\n",
       "    <tr>\n",
       "      <th>75%</th>\n",
       "      <td>117.250000</td>\n",
       "      <td>117.250000</td>\n",
       "      <td>116.500000</td>\n",
       "      <td>116.500000</td>\n",
       "      <td>116.500000</td>\n",
       "      <td>116.500000</td>\n",
       "      <td>111.250000</td>\n",
       "      <td>116.500000</td>\n",
       "      <td>114.250000</td>\n",
       "      <td>112.750000</td>\n",
       "    </tr>\n",
       "    <tr>\n",
       "      <th>max</th>\n",
       "      <td>156.000000</td>\n",
       "      <td>156.000000</td>\n",
       "      <td>155.000000</td>\n",
       "      <td>155.000000</td>\n",
       "      <td>155.000000</td>\n",
       "      <td>155.000000</td>\n",
       "      <td>148.000000</td>\n",
       "      <td>155.000000</td>\n",
       "      <td>152.000000</td>\n",
       "      <td>150.000000</td>\n",
       "    </tr>\n",
       "  </tbody>\n",
       "</table>\n",
       "</div>"
      ],
      "text/plain": [
       "           Ladder  SD of Ladder  Positive affect  Negative affect  \\\n",
       "count  156.000000    156.000000       155.000000       155.000000   \n",
       "mean    78.500000     78.500000        78.000000        78.000000   \n",
       "std     45.177428     45.177428        44.888751        44.888751   \n",
       "min      1.000000      1.000000         1.000000         1.000000   \n",
       "25%     39.750000     39.750000        39.500000        39.500000   \n",
       "50%     78.500000     78.500000        78.000000        78.000000   \n",
       "75%    117.250000    117.250000       116.500000       116.500000   \n",
       "max    156.000000    156.000000       155.000000       155.000000   \n",
       "\n",
       "       Social support     Freedom  Corruption  Generosity  \\\n",
       "count      155.000000  155.000000  148.000000  155.000000   \n",
       "mean        78.000000   78.000000   74.500000   78.000000   \n",
       "std         44.888751   44.888751   42.868014   44.888751   \n",
       "min          1.000000    1.000000    1.000000    1.000000   \n",
       "25%         39.500000   39.500000   37.750000   39.500000   \n",
       "50%         78.000000   78.000000   74.500000   78.000000   \n",
       "75%        116.500000  116.500000  111.250000  116.500000   \n",
       "max        155.000000  155.000000  148.000000  155.000000   \n",
       "\n",
       "       Log of GDP\\nper capita  Healthy life\\nexpectancy  \n",
       "count              152.000000                150.000000  \n",
       "mean                76.500000                 75.500000  \n",
       "std                 44.022721                 43.445368  \n",
       "min                  1.000000                  1.000000  \n",
       "25%                 38.750000                 38.250000  \n",
       "50%                 76.500000                 75.500000  \n",
       "75%                114.250000                112.750000  \n",
       "max                152.000000                150.000000  "
      ]
     },
     "execution_count": 3,
     "metadata": {},
     "output_type": "execute_result"
    }
   ],
   "source": [
    "df1.describe()"
   ]
  },
  {
   "cell_type": "code",
   "execution_count": null,
   "metadata": {
    "colab": {},
    "colab_type": "code",
    "id": "xWNReZVX1YSb"
   },
   "outputs": [],
   "source": [
    "def get_user_input_for_column(column, max):\n",
    "  rating = 0\n",
    "  \n",
    "  while 1 > rating or max < rating:\n",
    "    try:\n",
    "        rating = int(input(\"{} 1-{}? : \".format(column,max)))\n",
    "    except ValueError:\n",
    "        print (\"That wasn't an integer:(\")\n",
    "  return rating"
   ]
  },
  {
   "cell_type": "markdown",
   "metadata": {
    "colab_type": "text",
    "id": "QNQuWYcrNPRa"
   },
   "source": [
    "### Since we're going to use KNN, we need the user's input to be on the same scale as the variables(which means number of ratings for that column)\n",
    "\n",
    "Of course, for a user to enter numbers in such a high range(~155) is not ideal, since it's hard to choose the one correct number(which would be easier,  for example, in the 1-10 range), but we, as human beings, can tell if, for exapmle, we trust the government not to be corrupt with a value/score of 83 or more like 85; we do have that feeling"
   ]
  },
  {
   "cell_type": "code",
   "execution_count": null,
   "metadata": {
    "colab": {
     "base_uri": "https://localhost:8080/",
     "height": 191
    },
    "colab_type": "code",
    "id": "Z-2KqV0rpoqY",
    "outputId": "706072ab-4ea0-415d-85af-f3a50272c8b2"
   },
   "outputs": [
    {
     "name": "stdout",
     "output_type": "stream",
     "text": [
      "Please answer all the questions. REMEMBER, \n",
      "1 means that this feature contributes in a maximum level to your happiness!\n",
      "\n",
      "\n"
     ]
    }
   ],
   "source": [
    "print(\"Please answer all the questions. REMEMBER, \\n1 means that this feature contributes in a maximum level to your happiness!\\n\\n\")\n",
    "# Social Support - The extent to which Social support contributed to the calculation of the Happiness Score.\n",
    "social_support_answer = get_user_input_for_column('Social Support: How much does the government contribute to the quality of family life, nuclear and joint family on a scale of', 155) / 155\n",
    "\n",
    "# Freedom - The extent to which Freedom contributed to the calculation of the Happiness Score.\n",
    "Freedom_answer = get_user_input_for_column('Freedom: In your future country, how much will an individual be able to conduct himself based on his free will? On a scale of', 155) / 155\n",
    "\n",
    "# Corruption - The extent to which Perception of Corruption contributes to Happiness Score.\n",
    "Corruption_answer = get_user_input_for_column('Corruption: How much do you trust your government to be corruption free? On a scale of', 148) / 148\n",
    "\n",
    "# Generosity The extent to which Generosity contributed to the calculation of the Happiness Score.\n",
    "Generosity_answer = get_user_input_for_column('Generosity: In your future country, how much involved in peacekeeping and global aid do you want your country to be? On a scale of', 155) / 155\n",
    "\n",
    "# Log of GDP per capita - The extent to which GDP contributes to the calculation of the Happiness Score.\n",
    "GDP_per_capita_answer = get_user_input_for_column('GDP per capita: In your future country, how important is quality of life based on the GDP? On a scale of', 152) / 152\n",
    "\n",
    "# Healthy life expectancy - The extent to which Life expectancy contributed to the calculation of the Happiness Score.\n",
    "Healthy_life_expectancy_answer = get_user_input_for_column('Healthy life expectancy: How important is the healthcare and average life expectancy in your future country? on a scale of', 150) / 150"
   ]
  },
  {
   "cell_type": "code",
   "execution_count": null,
   "metadata": {
    "colab": {},
    "colab_type": "code",
    "id": "1hkLUIE320lt"
   },
   "outputs": [],
   "source": [
    "user_input_vector = np.array([social_support_answer, Freedom_answer, Corruption_answer, Generosity_answer, \n",
    "                               GDP_per_capita_answer, Healthy_life_expectancy_answer])"
   ]
  },
  {
   "cell_type": "code",
   "execution_count": null,
   "metadata": {
    "colab": {},
    "colab_type": "code",
    "id": "G4VrE5HW_ee0"
   },
   "outputs": [],
   "source": [
    "questionnaire_df = df1.iloc[:,5:11]"
   ]
  },
  {
   "cell_type": "code",
   "execution_count": null,
   "metadata": {
    "colab": {},
    "colab_type": "code",
    "id": "syfR5DZr_YJa"
   },
   "outputs": [],
   "source": [
    "questionnaire_df['Country (region)'] = df1['Country (region)']"
   ]
  },
  {
   "cell_type": "code",
   "execution_count": null,
   "metadata": {
    "colab": {},
    "colab_type": "code",
    "id": "gz-Obz_oFhru"
   },
   "outputs": [],
   "source": [
    "#  Because we only care about full rows which provide us all the information so we could use it with the KNN algorithm.\n",
    "questionnaire_df = questionnaire_df.dropna()"
   ]
  },
  {
   "cell_type": "code",
   "execution_count": null,
   "metadata": {
    "colab": {},
    "colab_type": "code",
    "id": "U8g6CkpY5j-P"
   },
   "outputs": [],
   "source": [
    "# standart normalization function to define all values to the same range 0-1\n",
    "def normalize(df):\n",
    "  new_df = []\n",
    "  min = 1\n",
    "  for i in df:\n",
    "    new_df.append((i - min) / (df.max() - min))\n",
    "  return new_df  "
   ]
  },
  {
   "cell_type": "code",
   "execution_count": null,
   "metadata": {
    "colab": {},
    "colab_type": "code",
    "id": "Zk9ChHHv775R"
   },
   "outputs": [],
   "source": [
    "questionnaire_df['norm_social_support'] = normalize(questionnaire_df['Social support'])\n",
    "questionnaire_df['norm_Freedom'] = normalize(questionnaire_df['Freedom'])\n",
    "questionnaire_df['norm_Corruption'] = normalize(questionnaire_df['Corruption'])\n",
    "questionnaire_df['norm_Generosity'] = normalize(questionnaire_df['Generosity'])\n",
    "questionnaire_df['norm_GDP_per_capita'] = normalize(questionnaire_df['Log of GDP\\nper capita'])\n",
    "questionnaire_df['norm_Healthy_life_expectancy'] = normalize(questionnaire_df['Healthy life\\nexpectancy'])"
   ]
  },
  {
   "cell_type": "code",
   "execution_count": null,
   "metadata": {
    "colab": {},
    "colab_type": "code",
    "id": "E8AHwfxkUzqP"
   },
   "outputs": [],
   "source": [
    "norm_questionnaire_df = questionnaire_df.iloc[:,6:]"
   ]
  },
  {
   "cell_type": "code",
   "execution_count": null,
   "metadata": {
    "colab": {},
    "colab_type": "code",
    "id": "QQmD1Km4PFeA"
   },
   "outputs": [],
   "source": [
    "# we build this dictionary to map between the output prediction value(number) and the country associated with it\n",
    "number_to_country_dictionary = {}\n",
    "i = 0\n",
    "for country in norm_questionnaire_df['Country (region)']:\n",
    "  number_to_country_dictionary[i] = country\n",
    "  i = i + 1"
   ]
  },
  {
   "cell_type": "code",
   "execution_count": null,
   "metadata": {
    "colab": {
     "base_uri": "https://localhost:8080/",
     "height": 69
    },
    "colab_type": "code",
    "id": "Yt54G0rwCbSM",
    "outputId": "13ed2ec4-7615-4c11-dc60-2a0212dbea48"
   },
   "outputs": [],
   "source": [
    "from sklearn.neighbors import KNeighborsClassifier\n",
    "\n",
    "\n",
    "# we will find the k nearest neighbors, which are the k country vectors(meaning the the coutry's 6 variables values) that have the smallest distance from our point.\n",
    "model = KNeighborsClassifier(n_neighbors=i)\n",
    "\n",
    "# Train the model using the training sets\n",
    "model.fit(norm_questionnaire_df.iloc[:,1:],list(norm_questionnaire_df['Country (region)']))\n",
    "#Predict Output\n",
    "user_input_vector = user_input_vector.reshape(1, -1)\n",
    "k_matching_countries = model.kneighbors(user_input_vector,n_neighbors=3)\n",
    "print(\"1. \", number_to_country_dictionary[k_matching_countries[1][0][0]])\n",
    "print(\"2. \", number_to_country_dictionary[k_matching_countries[1][0][1]])\n",
    "print(\"3. \", number_to_country_dictionary[k_matching_countries[1][0][2]])\n",
    "\n"
   ]
  },
  {
   "cell_type": "code",
   "execution_count": null,
   "metadata": {},
   "outputs": [],
   "source": []
  },
  {
   "cell_type": "code",
   "execution_count": null,
   "metadata": {},
   "outputs": [],
   "source": []
  }
 ],
 "metadata": {
  "colab": {
   "collapsed_sections": [],
   "name": "world_happiness.ipynb",
   "provenance": [],
   "version": "0.3.2"
  },
  "kernelspec": {
   "display_name": "Python 3",
   "language": "python",
   "name": "python3"
  },
  "language_info": {
   "codemirror_mode": {
    "name": "ipython",
    "version": 3
   },
   "file_extension": ".py",
   "mimetype": "text/x-python",
   "name": "python",
   "nbconvert_exporter": "python",
   "pygments_lexer": "ipython3",
   "version": "3.6.8"
  }
 },
 "nbformat": 4,
 "nbformat_minor": 1
}
